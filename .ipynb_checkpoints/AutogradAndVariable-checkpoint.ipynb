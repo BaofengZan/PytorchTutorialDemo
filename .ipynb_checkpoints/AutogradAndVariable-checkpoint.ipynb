{
 "cells": [
  {
   "cell_type": "markdown",
   "metadata": {},
   "source": [
    "\n",
    "## Autograd\n",
    "\n",
    "#### ａｕｔｏｇｒａｄ是torch自动微分的核心包，基于tape系统来自动微分的。在前向阶段，autograd tape会记住它执行的所有操作，在反向阶段，它将重放这些操作\n",
    "\n",
    "## Variable\n",
    "\n",
    "#### 在Autograd中引入一个 variable类， 使用 data属性访问原始tensor，使用grad属性访问该变量的梯度\n",
    "\n",
    "#### 还要一个对于Autograd使用很重要的类-Function。  \n",
    "\n",
    "#### function和variable是相互关联的，并创建了一个五环图，记录了一个完整的计算历史，  每个Variable的 .grad_fn属性都引用了一个计算出这个Variable的函数。 (自己穿件的变量 grad_fn 为None)\n",
    "\n",
    "#### 要计算导数， 可以再Variable上调用 backward（）"
   ]
  },
  {
   "cell_type": "code",
   "execution_count": 2,
   "metadata": {},
   "outputs": [
    {
     "name": "stdout",
     "output_type": "stream",
     "text": [
      "tensor([[1., 1.],\n",
      "        [1., 1.]], requires_grad=True)\n",
      "tensor([[1., 1.],\n",
      "        [1., 1.]])\n",
      "None\n",
      "None\n"
     ]
    }
   ],
   "source": [
    "import torch\n",
    "from torch.autograd import Variable\n",
    "\n",
    "x = Variable(torch.ones(2, 2), requires_grad=True)\n",
    "print(x)\n",
    "print(x.data)\n",
    "print(x.grad)\n",
    "print(x.grad_fn)"
   ]
  },
  {
   "cell_type": "code",
   "execution_count": 4,
   "metadata": {},
   "outputs": [
    {
     "name": "stdout",
     "output_type": "stream",
     "text": [
      "tensor([[3., 3.],\n",
      "        [3., 3.]], grad_fn=<AddBackward0>)\n",
      "<AddBackward0 object at 0x7f7cf5c408d0>\n"
     ]
    }
   ],
   "source": [
    "#对x做一个操作\n",
    "y = x +2\n",
    "print(y)\n",
    "print(y.grad_fn) # y是由前面返回的结果创建的，因此有grad_fn"
   ]
  },
  {
   "cell_type": "code",
   "execution_count": 5,
   "metadata": {},
   "outputs": [
    {
     "name": "stdout",
     "output_type": "stream",
     "text": [
      "(tensor([[27., 27.],\n",
      "        [27., 27.]], grad_fn=<MulBackward0>), tensor(27., grad_fn=<MeanBackward1>))\n"
     ]
    }
   ],
   "source": [
    "z = y*y*3\n",
    "out = z.mean() # 均值\n",
    "print (z, out)"
   ]
  },
  {
   "cell_type": "code",
   "execution_count": 6,
   "metadata": {},
   "outputs": [
    {
     "name": "stdout",
     "output_type": "stream",
     "text": [
      "tensor([[4.5000, 4.5000],\n",
      "        [4.5000, 4.5000]])\n"
     ]
    }
   ],
   "source": [
    "# 开始反向传播\n",
    "out.backward()\n",
    "print(x.grad) # out对x求导"
   ]
  },
  {
   "cell_type": "markdown",
   "metadata": {},
   "source": [
    "如果想要在图的某个部分向后执行两次梯度计算，需要自爱第一次传递过程中设置参数\n",
    "retain_variables=True"
   ]
  }
 ],
 "metadata": {
  "kernelspec": {
   "display_name": "Python 2",
   "language": "python",
   "name": "python2"
  },
  "language_info": {
   "codemirror_mode": {
    "name": "ipython",
    "version": 2
   },
   "file_extension": ".py",
   "mimetype": "text/x-python",
   "name": "python",
   "nbconvert_exporter": "python",
   "pygments_lexer": "ipython2",
   "version": "2.7.15"
  }
 },
 "nbformat": 4,
 "nbformat_minor": 2
}
