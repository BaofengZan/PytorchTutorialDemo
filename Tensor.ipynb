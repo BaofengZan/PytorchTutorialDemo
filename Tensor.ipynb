{
 "cells": [
  {
   "cell_type": "code",
   "execution_count": 3,
   "metadata": {},
   "outputs": [
    {
     "name": "stdout",
     "output_type": "stream",
     "text": [
      "tensor([[2.5978e+17, 4.5846e-41, 2.5978e+17, 4.5846e-41, 4.4842e-44, 0.0000e+00,\n",
      "         1.1210e-43],\n",
      "        [0.0000e+00, 1.2584e-10, 3.0613e-41, 1.3856e+10, 4.5846e-41, 1.3856e+10,\n",
      "         4.5846e-41],\n",
      "        [1.3856e+10, 4.5846e-41, 1.3856e+10, 4.5846e-41, 1.3856e+10, 4.5846e-41,\n",
      "         9.7131e+17],\n",
      "        [4.5846e-41, 9.7132e+17, 4.5846e-41, 0.0000e+00, 0.0000e+00, 6.8664e-44,\n",
      "         0.0000e+00],\n",
      "        [2.5978e+17, 4.5846e-41, 2.7554e-11, 3.0613e-41, 2.7534e-11, 3.0613e-41,\n",
      "         2.5978e+17]])\n"
     ]
    }
   ],
   "source": [
    "import torch\n",
    "a = torch.FloatTensor(5, 7) # 用未初始化的内存创建一个大小为（５×７）的ｔｅｎｓｏｒ\n",
    "print a"
   ]
  },
  {
   "cell_type": "code",
   "execution_count": 5,
   "metadata": {},
   "outputs": [
    {
     "name": "stdout",
     "output_type": "stream",
     "text": [
      "tensor([[-0.9853,  0.7615, -1.6813,  0.3486,  0.4141,  1.5917, -1.7931],\n",
      "        [ 0.2010,  1.7287,  0.1914,  0.4123, -0.6026, -0.2007, -0.6500],\n",
      "        [-0.4600,  0.7820, -2.3224,  1.3493,  0.9111,  0.8553,  0.0387],\n",
      "        [-0.8310,  0.6957, -0.7600,  0.1390, -0.0880,  0.2023, -0.3984],\n",
      "        [ 0.7929,  1.6267, -2.0582,  0.8278,  0.0740,  2.3030,  0.2439]])\n",
      "torch.Size([5, 7])\n"
     ]
    }
   ],
   "source": [
    "a = torch.randn(5, 7)\n",
    "print(a)\n",
    "print(a.size()) # 实际上是一个tuple "
   ]
  },
  {
   "cell_type": "code",
   "execution_count": null,
   "metadata": {},
   "outputs": [],
   "source": []
  }
 ],
 "metadata": {
  "kernelspec": {
   "display_name": "Python 2",
   "language": "python",
   "name": "python2"
  },
  "language_info": {
   "codemirror_mode": {
    "name": "ipython",
    "version": 2
   },
   "file_extension": ".py",
   "mimetype": "text/x-python",
   "name": "python",
   "nbconvert_exporter": "python",
   "pygments_lexer": "ipython2",
   "version": "2.7.15"
  }
 },
 "nbformat": 4,
 "nbformat_minor": 2
}
